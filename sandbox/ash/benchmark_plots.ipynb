{
 "cells": [
  {
   "cell_type": "code",
   "execution_count": 2,
   "metadata": {},
   "outputs": [
    {
     "name": "stderr",
     "output_type": "stream",
     "text": [
      "/tmp/ipykernel_8147/4080736814.py:1: DeprecationWarning: \n",
      "Pyarrow will become a required dependency of pandas in the next major release of pandas (pandas 3.0),\n",
      "(to allow more performant data types, such as the Arrow string type, and better interoperability with other libraries)\n",
      "but was not found to be installed on your system.\n",
      "If this would cause problems for you,\n",
      "please provide us feedback at https://github.com/pandas-dev/pandas/issues/54466\n",
      "        \n",
      "  import pandas as pd\n"
     ]
    }
   ],
   "source": [
    "import pandas as pd"
   ]
  },
  {
   "cell_type": "code",
   "execution_count": 3,
   "metadata": {},
   "outputs": [],
   "source": [
    "gene_dict = {'CTF1': ['11058912', '24503780', '26084686'], 'FBN2': ['9714438', '9737771', '10797416', '11754102', '15121784', '17345643', '19006240', '19473076', '24585410', '24833718', '24899048', '27625873', '25834781', '25975422', '27007659', '27196565', '27606123', '27912749', '28379158', '28383543', '29742989', '29864108', '30147916', '30675029', '31316167', '31426022', '31506931', '32184806', '32900841', '33571691', '33638605', '34355836', '34456093', '35126451', '35360850', '35754816', '36800380', '36849876', '36936417', '37254066', '37399314', '37875969', '37962692', '38099230', '38114583', '38215673', '38326314'], 'EXOC2': ['32639540'], 'RHOH': ['22850876'], 'RNASEH1': ['30340744', '28508084', '31258551', '26094573', '33396418'], 'TDO2': ['28285122', '35743796'], 'DNAJC7': ['31768050', '32897108', '33193563', '34233860', '35039179', '35456894', '37870677', '38112783'], 'PTCD3': ['36450274', '30706245', '30607703'], 'ZNF423': ['32925911', '33531950', '33270637', '22863007'], 'OTUD7A': ['33381903', '31997314'], 'PRPH': ['15322088', '15446584', '20363051', '25299611', '26742954', '17045786', '30992453', '35714755'], 'ADCY1': ['24482543'], 'IGKC': ['32278584', '26853951', '4132042'], 'SARS1': ['35790048', '36041817', '34570399'], 'BAZ2B': ['31999386', '25363768', '28135719', '28554332', '28867142', '31398340', '31981491', '33057194', '37872713'], 'NDUFA2': ['18513682', '27159321', '28857146', '32154054'], 'TAPBP': ['12149238'], 'AHCY': ['19177456', '20852937', '22959829', '26095522', '26527160', '26974671', '28779239', '30121674', '31957987', '32689861', '33869213', '35789945', '38052822', '15024124', '16736098', '27848944', '35463910'], 'B4GAT1': ['34587870', '34602496', '25279699', '23877401'], 'TOP2B': ['31198993', '31409799', '31953910', '35063500', '36450898', '37068767', '32128574'], 'SLFN14': ['30431218', '31378119', '37140956', '36790527', '26280575', '33496736', '29678925', '37041648', '36237120', '26769223', '30536060'], 'HYAL1': ['10339581', '21559944', '26322170'], 'RGS9': ['17826834', '14702087', '29107794', '19818506'], 'MLH3': ['11586295', '12702580', '12800209', '15193445', '16885347', '16981255', '18521850', '19156873', '24549055', '25142776', '26149658', '26296701', '26542077', '27401157', '30573798', '30614234', '31297992', '32469048', '33117677', '33517345', '34008015', '34897210', '35475445', '37656691', '38201513', '28195393', '29212164'], 'COG4': ['19494034', '19651599', '21185756', '30290151', '31949312', '32078278', '32652690', '33340551', '33629572', '33688625', '34022244', '34298581', '34595172', '34603392', '35455576', '36393834'], 'JPH2': ['17476457', '17509612', '20694023', '22515980', '23973696', '24636942', '24935431', '25500949', '27471098', '30167555', '28393127', '30235249', '30384889', '31227780', '31478477', '32879264', '34394822', '34526680', '34861382', '35001666', '35238659', '36357925', '37371654', '29540472', '29165669'], 'NLGN3': ['12669065', '24126926', '25167861', '25363768', '25533962', '28263302', '15150161', '19360662', '20615874', '21808020', '15274046', '15679194', '16077734', '16429495', '16508939', '16648374', '18189281', '18361425', '18419324', '18555979', '19545994', '19645625', '20227402', '21569590', '22934180', '23020841', '23468870', '23761734', '23851596', '23871722', '24362370', '24570023', '25347860', '25464930', '25592157', '26469287', '27743928', '27782075', '28385162', '28584888', '28948087', '29028156', '30201312', '31119867', '31184401', '31827744', '32848696', '34262438', '34690695', '36280753', '36810932', '38255906'], 'FOXE3': ['26854927', '26995144', '28418495', '29136273', '29314435', '29878917', '30078984', '31884615', '32224865', '32436650', '32499604', '32976546', '34046667', '35051625', '35170016', '36192130', '37628625', '37758467'], 'GRXCR2': ['24619944', '28383030', '32048449', '30157177', '33528103'], 'EMC1': ['36799557', '35234901', '37187958', '26942288', '32092440', '29271071', '38161285', '35684946', '37554197', '32869858'], 'PEX11G': ['26935981'], 'KMO': ['23459468'], 'MIB1': [], 'MPST': [], 'SLC38A9': [], 'HYKK': [], 'CPT1B': [], 'TNNC2': [], 'NPPA': [], 'LRRC10': ['26017719', '29431102', '28032242', '27536250', '29431105', '31270560'], 'TOPBP1': ['24702692', '34199176'], 'PEX11A': [], 'DECR1': [], 'ACAT2': [], 'KIF1B': ['11389829', '30126838', '16163269', '16877806', '18726616', '22595495', '25802885', '27986441', '32298515', '33112832', '33362715', '33397043', '34169998', '35046208', '37564981', '37780619']}\n"
   ]
  },
  {
   "cell_type": "code",
   "execution_count": 4,
   "metadata": {},
   "outputs": [
    {
     "name": "stdout",
     "output_type": "stream",
     "text": [
      "['ADCY1', 'RHOH', 'FBN2', 'ACAT2', 'TAPBP', 'LRRC10', 'EXOC2', 'CTF1', 'TOPBP1', 'TNNC2', 'PEX11A', 'KMO', 'GRXCR2', 'CPT1B', 'COG4', 'MLH3', 'HYAL1', 'EMC1', 'TOP2B', 'OTUD7A', 'DNAJC7', 'SARS1', 'NPPA', 'RNASEH1', 'IGKC', 'RGS9', 'SLFN14', 'SLC38A9', 'B4GAT1', 'ZNF423', 'BAZ2B', 'JPH2']\n",
      "- 'ADCY1:something'\n",
      "- 'RHOH:something'\n",
      "- 'FBN2:something'\n",
      "- 'ACAT2:something'\n",
      "- 'TAPBP:something'\n",
      "- 'LRRC10:something'\n",
      "- 'EXOC2:something'\n",
      "- 'CTF1:something'\n",
      "- 'TOPBP1:something'\n",
      "- 'TNNC2:something'\n",
      "- 'PEX11A:something'\n",
      "- 'KMO:something'\n",
      "- 'GRXCR2:something'\n",
      "- 'CPT1B:something'\n",
      "- 'COG4:something'\n",
      "- 'MLH3:something'\n",
      "- 'HYAL1:something'\n",
      "- 'EMC1:something'\n",
      "- 'TOP2B:something'\n",
      "- 'OTUD7A:something'\n",
      "- 'DNAJC7:something'\n",
      "- 'SARS1:something'\n",
      "- 'NPPA:something'\n",
      "- 'RNASEH1:something'\n",
      "- 'IGKC:something'\n",
      "- 'RGS9:something'\n",
      "- 'SLFN14:something'\n",
      "- 'SLC38A9:something'\n",
      "- 'B4GAT1:something'\n",
      "- 'ZNF423:something'\n",
      "- 'BAZ2B:something'\n",
      "- 'JPH2:something'\n"
     ]
    }
   ],
   "source": [
    "text = \"\"\"\n",
    "ADCY1   train\n",
    "RHOH    train\n",
    "FBN2    train\n",
    "ACAT2   train\n",
    "TAPBP   train\n",
    "LRRC10  train\n",
    "EXOC2   train\n",
    "CTF1    train\n",
    "TOPBP1  train\n",
    "TNNC2   train\n",
    "PEX11A  train\n",
    "KMO train\n",
    "GRXCR2  train\n",
    "CPT1B   train\n",
    "COG4    train\n",
    "MLH3    train\n",
    "HYAL1   train\n",
    "EMC1    train\n",
    "TOP2B   train\n",
    "OTUD7A  train\n",
    "DNAJC7  train\n",
    "SARS1   train\n",
    "NPPA    train\n",
    "RNASEH1 train\n",
    "IGKC    train\n",
    "RGS9    train\n",
    "SLFN14  train\n",
    "SLC38A9 train\n",
    "B4GAT1  train\n",
    "ZNF423  train\n",
    "BAZ2B   train\n",
    "JPH2    train\n",
    "\"\"\"\n",
    "\n",
    "# Split the text into lines, remove 'train' and strip extra whitespace\n",
    "train_genes = [line.replace('train', '').strip() for line in text.split('\\n') if line]\n",
    "\n",
    "print(train_genes)\n",
    "\n",
    "formatted_genes = [f\"- '{gene}:something'\" for gene in train_genes]\n",
    "\n",
    "for gene in formatted_genes:\n",
    "    print(gene)"
   ]
  },
  {
   "cell_type": "code",
   "execution_count": 5,
   "metadata": {},
   "outputs": [
    {
     "data": {
      "text/plain": [
       "['ADCY1',\n",
       " 'RHOH',\n",
       " 'FBN2',\n",
       " 'ACAT2',\n",
       " 'TAPBP',\n",
       " 'LRRC10',\n",
       " 'EXOC2',\n",
       " 'CTF1',\n",
       " 'TOPBP1',\n",
       " 'TNNC2',\n",
       " 'PEX11A',\n",
       " 'KMO',\n",
       " 'GRXCR2',\n",
       " 'CPT1B',\n",
       " 'COG4',\n",
       " 'MLH3',\n",
       " 'HYAL1',\n",
       " 'EMC1',\n",
       " 'TOP2B',\n",
       " 'OTUD7A',\n",
       " 'DNAJC7',\n",
       " 'SARS1',\n",
       " 'NPPA',\n",
       " 'RNASEH1',\n",
       " 'IGKC',\n",
       " 'RGS9',\n",
       " 'SLFN14',\n",
       " 'SLC38A9',\n",
       " 'B4GAT1',\n",
       " 'ZNF423',\n",
       " 'BAZ2B',\n",
       " 'JPH2']"
      ]
     },
     "execution_count": 5,
     "metadata": {},
     "output_type": "execute_result"
    }
   ],
   "source": [
    "train_genes"
   ]
  },
  {
   "cell_type": "code",
   "execution_count": 6,
   "metadata": {},
   "outputs": [],
   "source": [
    "data = {\n",
    "    'Gene': ['EXOC2', 'RHOH', 'RNASEH1', 'DNAJC7', 'PTCD3', 'ZNF423', 'OTUD7A', 'PRPH', 'BAZ2B', 'NDUFA2', 'TOP2B', 'HYAL1', 'FOXE3', 'AHCY'],\n",
    "    'Rare Disease Papers': [8, 0, 7, 9, 2, 7, 7, 7, 5, 6, 6, 6, 13, 7],\n",
    "    'Non-Rare Disease Papers': [7, 5, 13, 4, 4, 11, 3, 10, 11, 3, 14, 22, 2, 12],\n",
    "    'Other Papers': [35, 45, 30, 30, 12, 29, 17, 31, 34, 29, 30, 21, 29, 31],\n",
    "    'Tool Correct': [1, 1, 1, 7, 2, 2, 2, 3, 3, 2, 3, 1, 6, 3],\n",
    "    'Tool Missed': [0, 0, 4, 1, 1, 2, 0, 5, 6, 2, 4, 2, 12, 14],\n",
    "    'Tool Extra': [7, 49, 6, 2, 0, 5, 5, 4, 2, 4, 3, 5, 7, 4],\n",
    "    'PubMed Correct': [1, 1, 5, 8, 3, 4, 2, 5, 3, 3, 4, 3, 9, 6],\n",
    "    'PubMed Missed': [0, 0, 0, 0, 0, 0, 0, 3, 6, 1, 3, 0, 9, 11],\n",
    "    'PubMed Extra': [49, 49, 45, 35, 15, 43, 25, 43, 47, 35, 46, 46, 35, 44]\n",
    "}\n",
    "\n",
    "df = pd.DataFrame(data)\n"
   ]
  },
  {
   "cell_type": "code",
   "execution_count": 7,
   "metadata": {},
   "outputs": [],
   "source": [
    "data = {\n",
    "    'Gene': train_genes,\n",
    "    'Rare Disease Papers': [8, 7, 36, 2, 9, 3, 11, 8, 6, 10, 8, 22, 4, 8, 25, 25, 11, 15, 14, 19, 13, 19, 14, 15, 12, 9, 9, 7, 7, 11, 8, 12], \n",
    "    'Non-Rare Disease Papers': [8, 5, 3, 7, 9, 0, 6, 6, 13, 9, 3, 9, 0, 7, 1, 8, 20, 3, 12, 3, 2, 0, 5, 12, 19, 0, 3, 3, 5, 11, 11, 1],\n",
    "    'Other Papers': [34, 38, 8, 41, 32, 17, 33, 36, 31, 25, 34, 19, 5, 35, 22, 17, 18, 15, 24, 5, 28, 18, 31, 23, 17, 40, 7, 40, 11, 25, 31, 36],\n",
    "    'Tool Correct': [1, 1, 13, 0, 0, 3, 1, 1, 0, 0, 0, 1, 2, 0, 15, 7, 2, 9, 4, 2, 7, 3, 0, 3, 0, 0, 8, 0, 2, 4, 3, 8],\n",
    "    'Tool Missed':[0, 0, 34, 0, 1, 3, 0, 2, 2, 0, 0, 0, 3, 0, 1, 20, 1, 1, 3, 0, 1, 0, 0, 2, 3, 4, 3, 0, 2, 0, 6, 17],\n",
    "    'Tool Extra': [7, 6, 23, 2, 9, 0, 10, 7, 6, 10, 8, 21, 2, 8, 10, 18, 9, 6, 10, 17, 6, 16, 14, 12, 12, 9, 1, 7, 5, 7, 5, 4],\n",
    "    'PubMed Correct': [1, 1, 15, 0, 0, 6, 1, 1, 0, 0, 0, 1, 4, 0, 15, 8, 3, 10, 4, 2, 8, 3, 0, 5, 0, 1, 11, 0, 4, 4, 3, 16],\n",
    "    'PubMed Missed': [0, 0, 32, 0, 1, 0, 0, 2, 2, 0, 0, 0, 1, 0, 1, 19, 0, 0, 3, 0, 0, 0, 0, 0, 3, 3,0,0,0,0,6,9],\n",
    "    'PubMed Extra': [49, 49, 32, 50, 50, 14, 49, 49, 50, 44, 45, 49, 5, 50, 33, 42, 46, 23, 46, 25, 35, 34, 50, 45, 48, 48, 8, 50, 19, 43, 47, 33]\n",
    "}\n",
    "    \n",
    "df = pd.DataFrame(data)"
   ]
  },
  {
   "cell_type": "code",
   "execution_count": 8,
   "metadata": {},
   "outputs": [
    {
     "data": {
      "text/plain": [
       "{'Gene': 32,\n",
       " 'Rare Disease Papers': 32,\n",
       " 'Non-Rare Disease Papers': 32,\n",
       " 'Other Papers': 32,\n",
       " 'Tool Correct': 32,\n",
       " 'Tool Missed': 32,\n",
       " 'Tool Extra': 32,\n",
       " 'PubMed Correct': 32,\n",
       " 'PubMed Missed': 32,\n",
       " 'PubMed Extra': 32}"
      ]
     },
     "execution_count": 8,
     "metadata": {},
     "output_type": "execute_result"
    }
   ],
   "source": [
    "{key: len(value) for key, value in data.items()}"
   ]
  },
  {
   "cell_type": "code",
   "execution_count": 16,
   "metadata": {},
   "outputs": [
    {
     "name": "stdout",
     "output_type": "stream",
     "text": [
      "3.125\n",
      "3.40625\n",
      "8.96875\n",
      "3.96875\n",
      "2.5625\n",
      "39.375\n"
     ]
    },
    {
     "data": {
      "image/png": "[encoded data removed]",
      "text/plain": [
       "<Figure size 640x480 with 1 Axes>"
      ]
     },
     "metadata": {},
     "output_type": "display_data"
    }
   ],
   "source": [
    "import matplotlib.pyplot as plt\n",
    "import numpy as np\n",
    "\n",
    "# Calculate averages\n",
    "tool_averages = df[['Tool Correct', 'Tool Missed', 'Tool Extra']].mean()\n",
    "pubmed_averages = df[['PubMed Correct', 'PubMed Missed', 'PubMed Extra']].mean()\n",
    "\n",
    "# Calculate standard deviations\n",
    "tool_std = df[['Tool Correct', 'Tool Missed', 'Tool Extra']].std()\n",
    "pubmed_std = df[['PubMed Correct', 'PubMed Missed', 'PubMed Extra']].std()\n",
    "\n",
    "# Create a figure and a set of subplots\n",
    "fig, ax = plt.subplots()\n",
    "\n",
    "# Define bar width\n",
    "bar_width = 0.35\n",
    "\n",
    "# Positions of the left bar boundaries\n",
    "bar_l = np.arange(len(tool_averages))\n",
    "\n",
    "# Positions of the x-axis ticks (center of the bars as bar labels)\n",
    "tick_pos = [i + (bar_width / 2) for i in bar_l]\n",
    "\n",
    "# Create a bar plot for 'Tool'\n",
    "tool_bars = ax.bar(bar_l, \n",
    "       # using the 'Tool' data\n",
    "       tool_averages, \n",
    "       # set the width\n",
    "       width = bar_width,\n",
    "       # with the label 'Tool'\n",
    "       label = 'Tool', \n",
    "       # with alpha 0.5\n",
    "       alpha = 0.5, \n",
    "       # with color\n",
    "       color = 'b',\n",
    "       # with error\n",
    "       yerr = tool_std)\n",
    "\n",
    "# Create a bar plot for 'PubMed'\n",
    "pubmed_bars = ax.bar(bar_l + bar_width, \n",
    "       # using the 'PubMed' data\n",
    "       pubmed_averages, \n",
    "       # set the width\n",
    "       width = bar_width,\n",
    "       # with the label 'PubMed'\n",
    "       label = 'PubMed', \n",
    "       # with alpha 0.5\n",
    "       alpha = 0.5, \n",
    "       # with color\n",
    "       color = 'r',\n",
    "       # with error\n",
    "       yerr = pubmed_std)\n",
    "\n",
    "# Set the ticks to be first names\n",
    "plt.xticks(tick_pos, tool_averages.index)\n",
    "ax.set_ylabel(\"Average\")\n",
    "ax.set_xlabel(\"Categories\")\n",
    "plt.legend(loc='upper right')\n",
    "plt.title(\"Average number of correct, missed and extra papers for our tool and PubMed\")\n",
    "\n",
    "# Function to add labels\n",
    "def add_labels(bars):\n",
    "    for bar in bars:\n",
    "        height = bar.get_height()\n",
    "        print(height)\n",
    "        ax.text(bar.get_x() + bar.get_width() / 2, bar.get_y() + height + 0.9,\n",
    "                '%.2f' % height,\n",
    "                ha='left', va='bottom')\n",
    "\n",
    "# Call the function for each barplot\n",
    "add_labels(tool_bars)\n",
    "add_labels(pubmed_bars)\n",
    "# Set the ticks to be first names\n",
    "plt.xticks(tick_pos, ['Correct', 'Missed', 'Extra'])\n",
    "\n",
    "# Let's display the plot\n",
    "plt.show()\n"
   ]
  },
  {
   "cell_type": "code",
   "execution_count": 10,
   "metadata": {},
   "outputs": [
    {
     "data": {
      "image/png": "[encoded data removed]",
      "text/plain": [
       "<Figure size 640x480 with 1 Axes>"
      ]
     },
     "metadata": {},
     "output_type": "display_data"
    }
   ],
   "source": [
    "import matplotlib.pyplot as plt\n",
    "import numpy as np\n",
    "\n",
    "# Calculate averages\n",
    "rare_disease_avg = df['Rare Disease Papers'].mean()\n",
    "non_rare_disease_avg = df['Non-Rare Disease Papers'].mean()\n",
    "other_papers_avg = df['Other Papers'].mean()\n",
    "\n",
    "# Create a figure and a set of subplots\n",
    "fig, ax = plt.subplots()\n",
    "\n",
    "# Define bar width\n",
    "bar_width = 0.35\n",
    "\n",
    "# Positions of the left bar boundaries\n",
    "bar_l = np.arange(3)\n",
    "\n",
    "# Positions of the x-axis ticks (center of the bars as bar labels)\n",
    "tick_pos = [i + (bar_width / 2) for i in bar_l]\n",
    "\n",
    "# Create a bar plot\n",
    "bars = ax.bar(bar_l, \n",
    "       # using the data\n",
    "       [rare_disease_avg, non_rare_disease_avg, other_papers_avg], \n",
    "       # set the width\n",
    "       width = bar_width,\n",
    "       # with alpha 0.5\n",
    "       alpha = 0.5, \n",
    "       # with color\n",
    "       color = 'b')\n",
    "\n",
    "# Set the ticks to be first names\n",
    "plt.xticks(tick_pos, ['Rare Disease Papers', 'Non-Rare Disease Papers', 'Other Papers'])\n",
    "ax.set_ylabel(\"Average\")\n",
    "ax.set_xlabel(\"Categories\")\n",
    "plt.title(\"Average # PubMed papers filtered into rare, non-rare, and other categories\")\n",
    "# Function to add labels\n",
    "def add_labels(bars):\n",
    "    for bar in bars:\n",
    "        height = bar.get_height()\n",
    "        ax.text(bar.get_x() + bar.get_width() / 2, bar.get_y() + height + 0.5,\n",
    "                '%.2f' % float(height),\n",
    "                ha='center', va='bottom')\n",
    "\n",
    "# Call the function for each barplot\n",
    "add_labels(bars)\n",
    "\n",
    "# Let's display the plot\n",
    "plt.show()\n"
   ]
  },
  {
   "cell_type": "code",
   "execution_count": null,
   "metadata": {},
   "outputs": [],
   "source": []
  }
 ],
 "metadata": {
  "kernelspec": {
   "display_name": "evagg",
   "language": "python",
   "name": "python3"
  },
  "language_info": {
   "codemirror_mode": {
    "name": "ipython",
    "version": 3
   },
   "file_extension": ".py",
   "mimetype": "text/x-python",
   "name": "python",
   "nbconvert_exporter": "python",
   "pygments_lexer": "ipython3",
   "version": "3.12.1"
  }
 },
 "nbformat": 4,
 "nbformat_minor": 2
}
